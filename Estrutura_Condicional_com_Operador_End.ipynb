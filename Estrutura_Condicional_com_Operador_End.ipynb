{
  "nbformat": 4,
  "nbformat_minor": 0,
  "metadata": {
    "colab": {
      "provenance": [],
      "authorship_tag": "ABX9TyOjz+zr9cvV1BqjTy0omQQO",
      "include_colab_link": true
    },
    "kernelspec": {
      "name": "python3",
      "display_name": "Python 3"
    },
    "language_info": {
      "name": "python"
    }
  },
  "cells": [
    {
      "cell_type": "markdown",
      "metadata": {
        "id": "view-in-github",
        "colab_type": "text"
      },
      "source": [
        "<a href=\"https://colab.research.google.com/github/KeilaNLima/exercicios-python/blob/master/Estrutura_Condicional_com_Operador_End.ipynb\" target=\"_parent\"><img src=\"https://colab.research.google.com/assets/colab-badge.svg\" alt=\"Open In Colab\"/></a>"
      ]
    },
    {
      "cell_type": "code",
      "source": [
        " Faça um programa que lê três números e informa qual o maior número digitado.\n",
        "\n",
        "num1 = int(input(\"Digite o primeiro numero:\"))\n",
        "num2 = int(input(\"Digite o segundo numero\"))\n",
        "num3 = int(input(\"Digite o terceiro numero\"))\n",
        "\n",
        "if num1 > num2 and num1 > num3:\n",
        "  print(num1)\n",
        "\n",
        "if num2 > num1 and num2 > num3:\n",
        "  print(num2)\n",
        "\n",
        "if num3 > num1 and num3 > num2:\n",
        "  print(num3)\n",
        "\n",
        "if num1 == num2 and num1 == num3:\n",
        "  print(num1)\n"
      ],
      "metadata": {
        "id": "8pyVVzhDJOrp"
      },
      "execution_count": null,
      "outputs": []
    }
  ]
}