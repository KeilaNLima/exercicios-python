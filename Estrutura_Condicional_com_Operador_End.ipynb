{
  "nbformat": 4,
  "nbformat_minor": 0,
  "metadata": {
    "colab": {
      "provenance": [],
      "authorship_tag": "ABX9TyN307qAvYUm6K4kFog+586p",
      "include_colab_link": true
    },
    "kernelspec": {
      "name": "python3",
      "display_name": "Python 3"
    },
    "language_info": {
      "name": "python"
    }
  },
  "cells": [
    {
      "cell_type": "markdown",
      "metadata": {
        "id": "view-in-github",
        "colab_type": "text"
      },
      "source": [
        "<a href=\"https://colab.research.google.com/github/KeilaNLima/exercicios-python/blob/master/Estrutura_Condicional_com_Operador_End.ipynb\" target=\"_parent\"><img src=\"https://colab.research.google.com/assets/colab-badge.svg\" alt=\"Open In Colab\"/></a>"
      ]
    },
    {
      "cell_type": "code",
      "source": [
        "Um determinado clube de futebol pretende classificar seus atletas em categorias. Para isso, o clube contratou você para criar um programa que\n",
        " executasse essa tarefa. Baseada na tabela de categorias do clube, construa  um programa que solicite a idade de um atleta e imprima sua categoria;\n",
        "De 05 a 10 anos – Infantil;\n",
        "De 11 a 15 anos – Juvenil;\n",
        "De 16 a 20 anos – Júnior;\n",
        "De 21 a 25 anos – Profissional\n",
        "\n",
        "idade = int(input(\"Digite a idade:\"))\n",
        "\n",
        "if  idade >= 5 and idade <= 10:\n",
        "    print( \" infantil\"  )\n",
        "\n",
        "if  idade >= 11 and idade  <= 15:\n",
        "    print(\"  juvenil\" )\n",
        "\n",
        "if idade >= 16 and idade <= 20:\n",
        "    print(\" Junior\"  )\n",
        "\n",
        "if idade >= 21 and idade <= 25:\n",
        "     print(\"profissional\")\n",
        "\n",
        "else\n",
        "    print(\" Idade Invalida\" )"
      ],
      "metadata": {
        "id": "VRdvyy6pn9Dz"
      },
      "execution_count": null,
      "outputs": []
    }
  ]
}