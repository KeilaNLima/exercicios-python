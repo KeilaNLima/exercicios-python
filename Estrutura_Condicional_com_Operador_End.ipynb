{
  "nbformat": 4,
  "nbformat_minor": 0,
  "metadata": {
    "colab": {
      "provenance": [],
      "authorship_tag": "ABX9TyNEm7Qe4PY3Mibs+BNmHY/4",
      "include_colab_link": true
    },
    "kernelspec": {
      "name": "python3",
      "display_name": "Python 3"
    },
    "language_info": {
      "name": "python"
    }
  },
  "cells": [
    {
      "cell_type": "markdown",
      "metadata": {
        "id": "view-in-github",
        "colab_type": "text"
      },
      "source": [
        "<a href=\"https://colab.research.google.com/github/KeilaNLima/exercicios-python/blob/master/Estrutura_Condicional_com_Operador_End.ipynb\" target=\"_parent\"><img src=\"https://colab.research.google.com/assets/colab-badge.svg\" alt=\"Open In Colab\"/></a>"
      ]
    },
    {
      "cell_type": "code",
      "source": [
        "Operador OR\n",
        "\n",
        " Faça um algoritmo que lê uma sigla de um estado brasileiro (considere que o usuário só irá digitar um dos seguintes estados: PE, PB, SP ou RJ)\n",
        "  e informa se o estado digitado pertence ao Nordeste ou ao Sudeste.\n",
        "\n",
        "sigla = input(\" Digite a sigla do estado:\")\n",
        "\n",
        "if sigla == \"PE\" or sigla == \"PB\":\n",
        "  print(\"Estado do Nordeste\")\n",
        "\n",
        "if sigla == \"SP\" or sigla == \"RJ\":\n",
        "  print(\"Estado do Sudeste\")"
      ],
      "metadata": {
        "id": "J1TJMS54nPA8"
      },
      "execution_count": null,
      "outputs": []
    }
  ]
}