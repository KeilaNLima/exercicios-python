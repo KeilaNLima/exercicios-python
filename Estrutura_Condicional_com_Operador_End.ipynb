{
  "nbformat": 4,
  "nbformat_minor": 0,
  "metadata": {
    "colab": {
      "provenance": [],
      "authorship_tag": "ABX9TyNsJKGQswXJ1KAZVMlFI3IU",
      "include_colab_link": true
    },
    "kernelspec": {
      "name": "python3",
      "display_name": "Python 3"
    },
    "language_info": {
      "name": "python"
    }
  },
  "cells": [
    {
      "cell_type": "markdown",
      "metadata": {
        "id": "view-in-github",
        "colab_type": "text"
      },
      "source": [
        "<a href=\"https://colab.research.google.com/github/KeilaNLima/exercicios-python/blob/master/Estrutura_Condicional_com_Operador_End.ipynb\" target=\"_parent\"><img src=\"https://colab.research.google.com/assets/colab-badge.svg\" alt=\"Open In Colab\"/></a>"
      ]
    },
    {
      "cell_type": "code",
      "source": [
        " Faça um programa que leia o código de origem de um produto e mostre sua procedência.\n",
        "\n",
        "codigo = input(\"Digite o codigo:\")\n",
        "\n",
        "if    codigo == \"1\" or codigo == \"2\" :\n",
        "        print(\" sul\" )\n",
        "\n",
        "elif  codigo == \"3\" or codigo == \"4\":\n",
        "      print(\" sudeste\" )\n",
        "\n",
        "elif  codigo == \"5\" or codigo == \"6\":\n",
        "      print( \"norte\" )\n",
        "\n",
        "elif  codigo == \"7\" or codigo == \"8\":\n",
        "      print (\" Nordeste\" )\n",
        "\n",
        "elif  codigo == \"9\" or codigo == \"10\":\n",
        "       print(\" centro oeste\" )\n",
        "\n",
        "else\n",
        "  print(\" codigo Invalido\" )"
      ],
      "metadata": {
        "id": "l6-l3XkT3xyb"
      },
      "execution_count": null,
      "outputs": []
    }
  ]
}