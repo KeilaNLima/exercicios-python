{
  "nbformat": 4,
  "nbformat_minor": 0,
  "metadata": {
    "colab": {
      "provenance": [],
      "authorship_tag": "ABX9TyNjjT/UzBOeIODjhoZhcYQr",
      "include_colab_link": true
    },
    "kernelspec": {
      "name": "python3",
      "display_name": "Python 3"
    },
    "language_info": {
      "name": "python"
    }
  },
  "cells": [
    {
      "cell_type": "markdown",
      "metadata": {
        "id": "view-in-github",
        "colab_type": "text"
      },
      "source": [
        "<a href=\"https://colab.research.google.com/github/KeilaNLima/exercicios-python/blob/master/Untitled31.ipynb\" target=\"_parent\"><img src=\"https://colab.research.google.com/assets/colab-badge.svg\" alt=\"Open In Colab\"/></a>"
      ]
    },
    {
      "cell_type": "code",
      "source": [
        "Faça um programa que leia dois números inteiros, calcula e exibe a soma entre eles;\n",
        "\n",
        "num1 = int(input(\"Digite o primeiro numero\"))\n",
        "num2 = int (input(\"Digite o segundo numero\"))\n",
        "\n",
        "soma =  num1 +num2\n",
        "print('resultado da soma:')\n",
        "print (soma)\n"
      ],
      "metadata": {
        "id": "dxX263AQxh-S"
      },
      "execution_count": null,
      "outputs": []
    },
    {
      "cell_type": "code",
      "source": [
        "2 Faça um algoritmo que lê a base e a altura de um retângulo, calcula e exibe sua área;\n",
        "\n",
        "base = float(input(\" Base do retangulo: \" ))\n",
        "altura = float(input(\"Altura do retangulo:\" ))\n",
        "area = base * altura\n",
        "print(\" A area do retangulo\" )\n",
        "print (area)\n"
      ],
      "metadata": {
        "id": "1wErD8tvyqj4"
      },
      "execution_count": null,
      "outputs": []
    }
  ]
}