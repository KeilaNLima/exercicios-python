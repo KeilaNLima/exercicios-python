{
  "nbformat": 4,
  "nbformat_minor": 0,
  "metadata": {
    "colab": {
      "provenance": [],
      "authorship_tag": "ABX9TyPe8raCfrCyS7mogubHz6qa",
      "include_colab_link": true
    },
    "kernelspec": {
      "name": "python3",
      "display_name": "Python 3"
    },
    "language_info": {
      "name": "python"
    }
  },
  "cells": [
    {
      "cell_type": "markdown",
      "metadata": {
        "id": "view-in-github",
        "colab_type": "text"
      },
      "source": [
        "<a href=\"https://colab.research.google.com/github/KeilaNLima/exercicios-python/blob/master/Estrutura_Condicional.ipynb\" target=\"_parent\"><img src=\"https://colab.research.google.com/assets/colab-badge.svg\" alt=\"Open In Colab\"/></a>"
      ]
    },
    {
      "cell_type": "code",
      "source": [
        "Faça um programa que leia dois números inteiros, calcula e exibe a soma entre eles;\n",
        "\n",
        "num1 = int(input(\"Digite o primeiro numero\"))\n",
        "num2 = int (input(\"Digite o segundo numero\"))\n",
        "\n",
        "soma =  num1 +num2\n",
        "print('resultado da soma:')\n",
        "print (soma)\n"
      ],
      "metadata": {
        "id": "dxX263AQxh-S"
      },
      "execution_count": null,
      "outputs": []
    },
    {
      "cell_type": "code",
      "source": [
        "2 Faça um algoritmo que lê a base e a altura de um retângulo, calcula e exibe sua área;\n",
        "\n",
        "base = float(input(\" Base do retangulo: \" ))\n",
        "altura = float(input(\"Altura do retangulo:\" ))\n",
        "area = base * altura\n",
        "print(\" A area do retangulo\" )\n",
        "print (area)\n"
      ],
      "metadata": {
        "id": "1wErD8tvyqj4"
      },
      "execution_count": null,
      "outputs": []
    },
    {
      "cell_type": "code",
      "source": [
        "\n",
        "Faça um algoritmo que lê o preço de um produto e a quantidade adquirida por um cliente. O mesmo deverá calcular e exibir o valor total a ser pago pelo cliente;\n",
        "\n",
        "preço = float(input(\" preço do produto:\"))\n",
        "quantidede = float(input(\" quantidade adquirida:\"))\n",
        "\n",
        "total = preço * quantidade\n",
        "print(total a ser pago)\n",
        "print(total)\n",
        ""
      ],
      "metadata": {
        "id": "QVkJcvWpz87x"
      },
      "execution_count": null,
      "outputs": []
    },
    {
      "cell_type": "code",
      "source": [
        "Faça um algoritmo que lê o salário de um funcionário, calcula e exibe o novo salário, sabendo que este sofreu um aumento de 25%;\n",
        "\n",
        "salario = float(input(\"Digite seu salario:\"))\n",
        "\n",
        "if  (salario < 300):\n",
        "      salario_final = salario * 1.25\n",
        "     print('Com o aumento de 25% seu salario agora é R$:' salario_final)\n",
        "\n",
        "else\n",
        "    salario_final = salario * 1.25\n",
        "    print('com o aumento de 25% Seu salario agora é de R$', salario_final)\n"
      ],
      "metadata": {
        "id": "0LFOuO3q1rNv"
      },
      "execution_count": null,
      "outputs": []
    },
    {
      "cell_type": "code",
      "source": [
        "Faça um programa que receba três notas de um aluno, calcule sua média final e diga se o mesmo está aprovado ou reprovado\n",
        " (se sua média for maior que 5, estará aprovado);\n",
        "\n",
        "\n",
        "primeiraNota = float(input(\"Digite a primeira nota:\"))\n",
        "segundaNota = float(input(\"Digite a segunda nota:\"))\n",
        "terceiraNota = float(input(\"Digite a terceira nota:\"))\n",
        "\n",
        "media = primeiraNota + segundaNota + terceiraNota\n",
        "\n",
        "if  media >= 5:\n",
        "     print('Aprovada')\n",
        "\n",
        "else\n",
        "    print('reprovada')"
      ],
      "metadata": {
        "id": "VHFhyzQ72oGw"
      },
      "execution_count": null,
      "outputs": []
    },
    {
      "cell_type": "code",
      "source": [
        " Faça um programa que verifica a validade de uma senha fornecida pelo usuário. Se o usuário digitar a senha ‘123456’,\n",
        "  escrever a mensagem ‘Acesso liberado’. Caso contrário, escrever ‘Acesso negado’.\n",
        "\n",
        "senhaCorreta = 123456\n",
        "senha = int(input(\"Digite uma senha:\")\n",
        "\n",
        "if senha == senhaCorreta:\n",
        "      print('Acesso liberado)\n",
        "else\n",
        "   print('Acesso negado')"
      ],
      "metadata": {
        "id": "c9rkhb4S5s14"
      },
      "execution_count": null,
      "outputs": []
    },
    {
      "cell_type": "code",
      "source": [
        "Faça um programa que calcula e exibe o salário reajustado de um funcionário.\n",
        "\n",
        "\n",
        "salario = float(input(\"Digite seu salario:\"))\n",
        "\n",
        "if  (salario < 300):\n",
        "      aumento = salario * 0.45\n",
        "elif (salario <= 300 and salario >= 600):\n",
        "       aumento = salario * 0. 25\n",
        "else\n",
        "    percentual = salario * 1.15\n",
        "\n",
        "novo_salario =  salario * 1.45\n",
        "print('salario agora é de R$,  novo_salario')"
      ],
      "metadata": {
        "id": "ucsZb6E36ZMD"
      },
      "execution_count": null,
      "outputs": []
    },
    {
      "cell_type": "code",
      "source": [
        "Faça um programa que leia três valores inteiros A, B e C e diga se a soma de A + B é menor que C;\n",
        "a = int(input(\"A:  \"))\n",
        "b = int(input(\"B:  \"))\n",
        "c = int(input(\"C:  \"))\n",
        "\n",
        "if  (a + b  < c):\n",
        "   print(\"É menor\")\n",
        "else\n",
        "   print('Não é menor')"
      ],
      "metadata": {
        "id": "FILuIr1pIhWt"
      },
      "execution_count": null,
      "outputs": []
    },
    {
      "cell_type": "code",
      "source": [],
      "metadata": {
        "id": "8pyVVzhDJOrp"
      },
      "execution_count": null,
      "outputs": []
    }
  ]
}